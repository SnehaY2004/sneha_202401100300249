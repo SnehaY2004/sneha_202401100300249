{
  "nbformat": 4,
  "nbformat_minor": 0,
  "metadata": {
    "colab": {
      "provenance": []
    },
    "kernelspec": {
      "name": "python3",
      "display_name": "Python 3"
    },
    "language_info": {
      "name": "python"
    }
  },
  "cells": [
    {
      "cell_type": "code",
      "source": [
        "import time\n",
        "\n",
        "# Define traffic light states\n",
        "RED = \"Red\"\n",
        "YELLOW = \"Yellow\"\n",
        "GREEN = \"Green\"\n",
        "\n",
        "# Define the traffic lights for two directions\n",
        "direction_1 = {\"North-South\": RED, \"East-West\": GREEN}\n",
        "direction_2 = {\"North-South\": GREEN, \"East-West\": RED}\n",
        "\n",
        "# Timing for each state in seconds\n",
        "green_time = 30  # Green for 30 seconds\n",
        "yellow_time = 5  # Yellow for 5 seconds\n",
        "red_time = 30  # Red for 30 seconds\n",
        "\n",
        "# Function to change the traffic lights based on the current direction\n",
        "def change_traffic_lights(direction):\n",
        "    print(f\"Direction {direction} - North-South: {direction_1['North-South']}, East-West: {direction_1['East-West']}\")\n",
        "    time.sleep(green_time)\n",
        "\n",
        "    # Yellow light state\n",
        "    print(f\"Direction {direction} - North-South: {YELLOW}, East-West: {YELLOW}\")\n",
        "    time.sleep(yellow_time)\n",
        "\n",
        "    # Change to red for the current direction and green for the opposite direction\n",
        "    if direction == 1:\n",
        "        direction_1[\"North-South\"], direction_1[\"East-West\"] = RED, GREEN\n",
        "        direction_2[\"North-South\"], direction_2[\"East-West\"] = GREEN, RED\n",
        "    else:\n",
        "        direction_1[\"North-South\"], direction_1[\"East-West\"] = GREEN, RED\n",
        "        direction_2[\"North-South\"], direction_2[\"East-West\"] = RED, GREEN\n",
        "\n",
        "    # Red light state for the opposite direction\n",
        "    print(f\"Direction {direction} - North-South: {direction_1['North-South']}, East-West: {direction_1['East-West']}\")\n",
        "    time.sleep(red_time)\n",
        "\n",
        "# Run the controller for 5 cycles\n",
        "for cycle in range(5):\n",
        "    change_traffic_lights(1)\n",
        "    change_traffic_lights(2)"
      ],
      "metadata": {
        "colab": {
          "base_uri": "https://localhost:8080/"
        },
        "id": "AlaKTb66oeN-",
        "outputId": "3dd08b7c-2f95-474a-fb86-a16a76efedc1"
      },
      "execution_count": 6,
      "outputs": [
        {
          "output_type": "stream",
          "name": "stdout",
          "text": [
            "Direction 1 - North-South: Red, East-West: Green\n",
            "Direction 1 - North-South: Yellow, East-West: Yellow\n",
            "Direction 1 - North-South: Red, East-West: Green\n",
            "Direction 2 - North-South: Red, East-West: Green\n",
            "Direction 2 - North-South: Yellow, East-West: Yellow\n",
            "Direction 2 - North-South: Green, East-West: Red\n",
            "Direction 1 - North-South: Green, East-West: Red\n",
            "Direction 1 - North-South: Yellow, East-West: Yellow\n",
            "Direction 1 - North-South: Red, East-West: Green\n",
            "Direction 2 - North-South: Red, East-West: Green\n",
            "Direction 2 - North-South: Yellow, East-West: Yellow\n",
            "Direction 2 - North-South: Green, East-West: Red\n",
            "Direction 1 - North-South: Green, East-West: Red\n",
            "Direction 1 - North-South: Yellow, East-West: Yellow\n",
            "Direction 1 - North-South: Red, East-West: Green\n",
            "Direction 2 - North-South: Red, East-West: Green\n",
            "Direction 2 - North-South: Yellow, East-West: Yellow\n",
            "Direction 2 - North-South: Green, East-West: Red\n",
            "Direction 1 - North-South: Green, East-West: Red\n",
            "Direction 1 - North-South: Yellow, East-West: Yellow\n",
            "Direction 1 - North-South: Red, East-West: Green\n",
            "Direction 2 - North-South: Red, East-West: Green\n",
            "Direction 2 - North-South: Yellow, East-West: Yellow\n",
            "Direction 2 - North-South: Green, East-West: Red\n",
            "Direction 1 - North-South: Green, East-West: Red\n",
            "Direction 1 - North-South: Yellow, East-West: Yellow\n",
            "Direction 1 - North-South: Red, East-West: Green\n",
            "Direction 2 - North-South: Red, East-West: Green\n",
            "Direction 2 - North-South: Yellow, East-West: Yellow\n",
            "Direction 2 - North-South: Green, East-West: Red\n"
          ]
        }
      ]
    }
  ]
}